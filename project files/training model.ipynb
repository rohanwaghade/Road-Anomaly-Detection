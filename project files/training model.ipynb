{
  "cells": [
    {
      "cell_type": "markdown",
      "metadata": {},
      "source": [
        "# \ud83d\udd27 YOLOv8 Road Defect Detection with GPS (Google Drive Access)\n",
        "This notebook processes video frames to detect road anomalies using a YOLOv8 model and extract GPS coordinates along with human-readable addresses."
      ]
    },
    {
      "cell_type": "code",
      "execution_count": null,
      "metadata": {},
      "outputs": [],
      "source": [
        "# \ud83d\udce6 Install Required Packages\n",
        "!pip install ultralytics geopy opencv-python-headless pandas"
      ]
    },
    {
      "cell_type": "code",
      "execution_count": null,
      "metadata": {},
      "outputs": [],
      "source": [
        "# \ud83d\udd17 Mount Google Drive to access your model and video\n",
        "from google.colab import drive\n",
        "drive.mount('/content/drive')"
      ]
    },
    {
      "cell_type": "code",
      "execution_count": null,
      "metadata": {},
      "outputs": [],
      "source": [
        "# \u2705 Set the path to your YOLOv8 model and video in Google Drive\n",
        "model_path = \"/content/drive/MyDrive/road_detection/best.pt\"\n",
        "video_path = \"/content/drive/MyDrive/road_detection/road_video.mp4\""
      ]
    },
    {
      "cell_type": "code",
      "execution_count": null,
      "metadata": {},
      "outputs": [],
      "source": [
        "# \ud83d\udea6 Process Video and Detect Defects\n",
        "import cv2\n",
        "import os\n",
        "import csv\n",
        "from geopy.geocoders import Nominatim\n",
        "from ultralytics import YOLO\n",
        "from collections import defaultdict\n",
        "\n",
        "model = YOLO(model_path)\n",
        "names = model.names\n",
        "\n",
        "output_folder = 'yolo_gps_output'\n",
        "os.makedirs(output_folder, exist_ok=True)\n",
        "\n",
        "cap = cv2.VideoCapture(video_path)\n",
        "fps = int(cap.get(cv2.CAP_PROP_FPS))\n",
        "\n",
        "geolocator = Nominatim(user_agent=\"geoapi\")\n",
        "\n",
        "csv_path = os.path.join(output_folder, 'detection_output.csv')\n",
        "csv_file = open(csv_path, 'w', newline='')\n",
        "csv_writer = csv.writer(csv_file)\n",
        "csv_writer.writerow([\"Frame\", \"Latitude\", \"Longitude\", \"Location\", \"Defect Category\"])\n",
        "\n",
        "frame_count = 0\n",
        "while True:\n",
        "    success, frame = cap.read()\n",
        "    if not success:\n",
        "        break\n",
        "\n",
        "    if frame_count % 10 == 0:\n",
        "        results = model(frame)[0]\n",
        "        defects = list(set([names[int(cls)] for cls in results.boxes.cls.cpu().numpy()]))\n",
        "\n",
        "        if defects:\n",
        "            # Replace with dynamic GPS extraction if needed\n",
        "            lat, lon = 19.098404, 74.690346\n",
        "            try:\n",
        "                location = geolocator.reverse((lat, lon), timeout=10).address\n",
        "            except:\n",
        "                location = \"Location not found\"\n",
        "\n",
        "            csv_writer.writerow([frame_count, lat, lon, location, \", \".join(defects)])\n",
        "\n",
        "    frame_count += 1\n",
        "\n",
        "cap.release()\n",
        "csv_file.close()\n",
        "print(\"\u2705 Processing complete. Output saved to:\", csv_path)"
      ]
    }
  ],
  "metadata": {
    "kernelspec": {
      "display_name": "Python 3",
      "language": "python",
      "name": "python3"
    },
    "language_info": {
      "name": "python",
      "version": "3.10"
    }
  },
  "nbformat": 4,
  "nbformat_minor": 2
}